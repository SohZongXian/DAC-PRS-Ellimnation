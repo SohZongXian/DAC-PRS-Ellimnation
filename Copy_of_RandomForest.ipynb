{
 "cells": [
  {
   "cell_type": "markdown",
   "metadata": {
    "id": "HqNf03dnu303"
   },
   "source": [
    "## Data Preprocessing"
   ]
  },
  {
   "cell_type": "code",
   "execution_count": 9,
   "metadata": {
    "id": "LCCOTGsSu307"
   },
   "outputs": [],
   "source": [
    "import pandas as pd\n",
    "import numpy as np\n",
    "import csv\n",
    "import datetime"
   ]
  },
  {
   "cell_type": "markdown",
   "metadata": {
    "id": "huxhWIkxu309"
   },
   "source": [
    "## Feature Selection "
   ]
  },
  {
   "cell_type": "code",
   "execution_count": 10,
   "metadata": {
    "id": "-l-xPDJ8u30-"
   },
   "outputs": [],
   "source": [
    "train = pd.read_csv(\"train_clean.csv\")\n",
    "test = pd.read_csv('test_clean.csv')\n",
    "sample = pd.read_csv(\"Sample Submission DAC.csv\")\n"
   ]
  },
  {
   "cell_type": "code",
   "execution_count": 11,
   "metadata": {
    "colab": {
     "base_uri": "https://localhost:8080/",
     "height": 204
    },
    "id": "oNdh7tn5Kv9h",
    "outputId": "7463c243-09cf-4db7-fc51-79b371f9601e"
   },
   "outputs": [
    {
     "data": {
      "text/html": [
       "<div>\n",
       "<style scoped>\n",
       "    .dataframe tbody tr th:only-of-type {\n",
       "        vertical-align: middle;\n",
       "    }\n",
       "\n",
       "    .dataframe tbody tr th {\n",
       "        vertical-align: top;\n",
       "    }\n",
       "\n",
       "    .dataframe thead th {\n",
       "        text-align: right;\n",
       "    }\n",
       "</style>\n",
       "<table border=\"1\" class=\"dataframe\">\n",
       "  <thead>\n",
       "    <tr style=\"text-align: right;\">\n",
       "      <th></th>\n",
       "      <th>id</th>\n",
       "      <th>regency_cluster</th>\n",
       "    </tr>\n",
       "  </thead>\n",
       "  <tbody>\n",
       "    <tr>\n",
       "      <th>0</th>\n",
       "      <td>0</td>\n",
       "      <td>1</td>\n",
       "    </tr>\n",
       "    <tr>\n",
       "      <th>1</th>\n",
       "      <td>1</td>\n",
       "      <td>1</td>\n",
       "    </tr>\n",
       "    <tr>\n",
       "      <th>2</th>\n",
       "      <td>2</td>\n",
       "      <td>1</td>\n",
       "    </tr>\n",
       "    <tr>\n",
       "      <th>3</th>\n",
       "      <td>3</td>\n",
       "      <td>1</td>\n",
       "    </tr>\n",
       "    <tr>\n",
       "      <th>4</th>\n",
       "      <td>4</td>\n",
       "      <td>1</td>\n",
       "    </tr>\n",
       "  </tbody>\n",
       "</table>\n",
       "</div>"
      ],
      "text/plain": [
       "   id  regency_cluster\n",
       "0   0                1\n",
       "1   1                1\n",
       "2   2                1\n",
       "3   3                1\n",
       "4   4                1"
      ]
     },
     "execution_count": 11,
     "metadata": {},
     "output_type": "execute_result"
    }
   ],
   "source": [
    "sample.head()"
   ]
  },
  {
   "cell_type": "code",
   "execution_count": 12,
   "metadata": {
    "colab": {
     "base_uri": "https://localhost:8080/"
    },
    "id": "yyFfjWdvu30-",
    "outputId": "7c7459e3-eb52-48e1-e628-4413bd7bd706"
   },
   "outputs": [
    {
     "name": "stdout",
     "output_type": "stream",
     "text": [
      "(343583, 21)\n",
      "(21018, 20)\n"
     ]
    }
   ],
   "source": [
    "print(train.shape)\n",
    "print(test.shape)"
   ]
  },
  {
   "cell_type": "code",
   "execution_count": 13,
   "metadata": {
    "id": "VNZY99Bcu30_"
   },
   "outputs": [],
   "source": [
    "test.drop(['Unnamed: 0'], axis = 1, inplace=True)\n"
   ]
  },
  {
   "cell_type": "code",
   "execution_count": 14,
   "metadata": {
    "colab": {
     "base_uri": "https://localhost:8080/"
    },
    "id": "ro7l7-Scu31A",
    "outputId": "f02296fd-7092-4a13-f309-f140053639ea"
   },
   "outputs": [
    {
     "data": {
      "text/plain": [
       "site                 0\n",
       "continent_id         0\n",
       "buyer_country        0\n",
       "buyer_region         0\n",
       "buyer_city           0\n",
       "distance             0\n",
       "mobile               0\n",
       "package              0\n",
       "channel_id           0\n",
       "adults               0\n",
       "children             0\n",
       "room                 0\n",
       "destination_id       0\n",
       "destination_type     0\n",
       "regency_continent    0\n",
       "regency_country      0\n",
       "regency_market       0\n",
       "Number of days       0\n",
       "cnt                  0\n",
       "dtype: int64"
      ]
     },
     "execution_count": 14,
     "metadata": {},
     "output_type": "execute_result"
    }
   ],
   "source": [
    "test.isnull().sum()"
   ]
  },
  {
   "cell_type": "code",
   "execution_count": 29,
   "metadata": {
    "id": "7M9MMoxRxWpg"
   },
   "outputs": [],
   "source": [
    "del test['site']\n",
    "del test['mobile']\n",
    "del test['package']\n"
   ]
  },
  {
   "cell_type": "code",
   "execution_count": 10,
   "metadata": {
    "colab": {
     "base_uri": "https://localhost:8080/",
     "height": 412
    },
    "id": "EojTNCiPu31B",
    "outputId": "63a43f73-76f9-4eae-b757-9efe2beb5480"
   },
   "outputs": [
    {
     "data": {
      "text/html": [
       "<div>\n",
       "<style scoped>\n",
       "    .dataframe tbody tr th:only-of-type {\n",
       "        vertical-align: middle;\n",
       "    }\n",
       "\n",
       "    .dataframe tbody tr th {\n",
       "        vertical-align: top;\n",
       "    }\n",
       "\n",
       "    .dataframe thead th {\n",
       "        text-align: right;\n",
       "    }\n",
       "</style>\n",
       "<table border=\"1\" class=\"dataframe\">\n",
       "  <thead>\n",
       "    <tr style=\"text-align: right;\">\n",
       "      <th></th>\n",
       "      <th>site</th>\n",
       "      <th>continent_id</th>\n",
       "      <th>buyer_country</th>\n",
       "      <th>buyer_region</th>\n",
       "      <th>buyer_city</th>\n",
       "      <th>distance</th>\n",
       "      <th>buyer_id</th>\n",
       "      <th>mobile</th>\n",
       "      <th>package</th>\n",
       "      <th>channel_id</th>\n",
       "      <th>...</th>\n",
       "      <th>children</th>\n",
       "      <th>room</th>\n",
       "      <th>destination_id</th>\n",
       "      <th>destination_type</th>\n",
       "      <th>regency_continent</th>\n",
       "      <th>regency_country</th>\n",
       "      <th>regency_market</th>\n",
       "      <th>cnt</th>\n",
       "      <th>regency_cluster</th>\n",
       "      <th>Number of days</th>\n",
       "    </tr>\n",
       "  </thead>\n",
       "  <tbody>\n",
       "    <tr>\n",
       "      <th>0</th>\n",
       "      <td>2</td>\n",
       "      <td>3</td>\n",
       "      <td>66</td>\n",
       "      <td>348</td>\n",
       "      <td>48862</td>\n",
       "      <td>2234.2641</td>\n",
       "      <td>12</td>\n",
       "      <td>0</td>\n",
       "      <td>1</td>\n",
       "      <td>9</td>\n",
       "      <td>...</td>\n",
       "      <td>0</td>\n",
       "      <td>1</td>\n",
       "      <td>8250</td>\n",
       "      <td>1</td>\n",
       "      <td>3</td>\n",
       "      <td>2</td>\n",
       "      <td>50</td>\n",
       "      <td>628</td>\n",
       "      <td>1</td>\n",
       "      <td>4</td>\n",
       "    </tr>\n",
       "    <tr>\n",
       "      <th>1</th>\n",
       "      <td>2</td>\n",
       "      <td>3</td>\n",
       "      <td>66</td>\n",
       "      <td>348</td>\n",
       "      <td>48862</td>\n",
       "      <td>2234.2641</td>\n",
       "      <td>12</td>\n",
       "      <td>0</td>\n",
       "      <td>1</td>\n",
       "      <td>9</td>\n",
       "      <td>...</td>\n",
       "      <td>0</td>\n",
       "      <td>1</td>\n",
       "      <td>8250</td>\n",
       "      <td>1</td>\n",
       "      <td>1</td>\n",
       "      <td>2</td>\n",
       "      <td>50</td>\n",
       "      <td>628</td>\n",
       "      <td>1</td>\n",
       "      <td>4</td>\n",
       "    </tr>\n",
       "    <tr>\n",
       "      <th>2</th>\n",
       "      <td>2</td>\n",
       "      <td>3</td>\n",
       "      <td>66</td>\n",
       "      <td>348</td>\n",
       "      <td>48862</td>\n",
       "      <td>2234.2641</td>\n",
       "      <td>12</td>\n",
       "      <td>0</td>\n",
       "      <td>0</td>\n",
       "      <td>9</td>\n",
       "      <td>...</td>\n",
       "      <td>0</td>\n",
       "      <td>1</td>\n",
       "      <td>8250</td>\n",
       "      <td>1</td>\n",
       "      <td>1</td>\n",
       "      <td>2</td>\n",
       "      <td>50</td>\n",
       "      <td>628</td>\n",
       "      <td>1</td>\n",
       "      <td>4</td>\n",
       "    </tr>\n",
       "    <tr>\n",
       "      <th>3</th>\n",
       "      <td>2</td>\n",
       "      <td>3</td>\n",
       "      <td>66</td>\n",
       "      <td>442</td>\n",
       "      <td>35390</td>\n",
       "      <td>913.1932</td>\n",
       "      <td>93</td>\n",
       "      <td>0</td>\n",
       "      <td>0</td>\n",
       "      <td>3</td>\n",
       "      <td>...</td>\n",
       "      <td>0</td>\n",
       "      <td>1</td>\n",
       "      <td>14984</td>\n",
       "      <td>1</td>\n",
       "      <td>1</td>\n",
       "      <td>2</td>\n",
       "      <td>50</td>\n",
       "      <td>1457</td>\n",
       "      <td>80</td>\n",
       "      <td>5</td>\n",
       "    </tr>\n",
       "    <tr>\n",
       "      <th>4</th>\n",
       "      <td>2</td>\n",
       "      <td>3</td>\n",
       "      <td>66</td>\n",
       "      <td>442</td>\n",
       "      <td>35390</td>\n",
       "      <td>913.6259</td>\n",
       "      <td>93</td>\n",
       "      <td>0</td>\n",
       "      <td>0</td>\n",
       "      <td>3</td>\n",
       "      <td>...</td>\n",
       "      <td>0</td>\n",
       "      <td>1</td>\n",
       "      <td>14984</td>\n",
       "      <td>1</td>\n",
       "      <td>1</td>\n",
       "      <td>2</td>\n",
       "      <td>50</td>\n",
       "      <td>1457</td>\n",
       "      <td>21</td>\n",
       "      <td>5</td>\n",
       "    </tr>\n",
       "    <tr>\n",
       "      <th>5</th>\n",
       "      <td>2</td>\n",
       "      <td>3</td>\n",
       "      <td>66</td>\n",
       "      <td>442</td>\n",
       "      <td>35390</td>\n",
       "      <td>911.5142</td>\n",
       "      <td>93</td>\n",
       "      <td>0</td>\n",
       "      <td>0</td>\n",
       "      <td>3</td>\n",
       "      <td>...</td>\n",
       "      <td>0</td>\n",
       "      <td>1</td>\n",
       "      <td>14984</td>\n",
       "      <td>1</td>\n",
       "      <td>1</td>\n",
       "      <td>2</td>\n",
       "      <td>50</td>\n",
       "      <td>1457</td>\n",
       "      <td>92</td>\n",
       "      <td>5</td>\n",
       "    </tr>\n",
       "    <tr>\n",
       "      <th>6</th>\n",
       "      <td>2</td>\n",
       "      <td>3</td>\n",
       "      <td>66</td>\n",
       "      <td>189</td>\n",
       "      <td>10067</td>\n",
       "      <td>599.5329</td>\n",
       "      <td>501</td>\n",
       "      <td>0</td>\n",
       "      <td>0</td>\n",
       "      <td>2</td>\n",
       "      <td>...</td>\n",
       "      <td>0</td>\n",
       "      <td>1</td>\n",
       "      <td>8267</td>\n",
       "      <td>1</td>\n",
       "      <td>2</td>\n",
       "      <td>2</td>\n",
       "      <td>50</td>\n",
       "      <td>675</td>\n",
       "      <td>41</td>\n",
       "      <td>1</td>\n",
       "    </tr>\n",
       "    <tr>\n",
       "      <th>7</th>\n",
       "      <td>2</td>\n",
       "      <td>3</td>\n",
       "      <td>66</td>\n",
       "      <td>189</td>\n",
       "      <td>10067</td>\n",
       "      <td>599.5329</td>\n",
       "      <td>501</td>\n",
       "      <td>0</td>\n",
       "      <td>1</td>\n",
       "      <td>2</td>\n",
       "      <td>...</td>\n",
       "      <td>0</td>\n",
       "      <td>1</td>\n",
       "      <td>8267</td>\n",
       "      <td>1</td>\n",
       "      <td>1</td>\n",
       "      <td>2</td>\n",
       "      <td>50</td>\n",
       "      <td>675</td>\n",
       "      <td>41</td>\n",
       "      <td>1</td>\n",
       "    </tr>\n",
       "    <tr>\n",
       "      <th>8</th>\n",
       "      <td>2</td>\n",
       "      <td>3</td>\n",
       "      <td>66</td>\n",
       "      <td>189</td>\n",
       "      <td>10067</td>\n",
       "      <td>599.5329</td>\n",
       "      <td>501</td>\n",
       "      <td>0</td>\n",
       "      <td>0</td>\n",
       "      <td>2</td>\n",
       "      <td>...</td>\n",
       "      <td>0</td>\n",
       "      <td>1</td>\n",
       "      <td>8267</td>\n",
       "      <td>1</td>\n",
       "      <td>1</td>\n",
       "      <td>2</td>\n",
       "      <td>50</td>\n",
       "      <td>675</td>\n",
       "      <td>69</td>\n",
       "      <td>1</td>\n",
       "    </tr>\n",
       "    <tr>\n",
       "      <th>9</th>\n",
       "      <td>2</td>\n",
       "      <td>3</td>\n",
       "      <td>66</td>\n",
       "      <td>189</td>\n",
       "      <td>10067</td>\n",
       "      <td>599.5329</td>\n",
       "      <td>501</td>\n",
       "      <td>0</td>\n",
       "      <td>0</td>\n",
       "      <td>2</td>\n",
       "      <td>...</td>\n",
       "      <td>0</td>\n",
       "      <td>1</td>\n",
       "      <td>8267</td>\n",
       "      <td>1</td>\n",
       "      <td>1</td>\n",
       "      <td>2</td>\n",
       "      <td>50</td>\n",
       "      <td>675</td>\n",
       "      <td>70</td>\n",
       "      <td>1</td>\n",
       "    </tr>\n",
       "  </tbody>\n",
       "</table>\n",
       "<p>10 rows × 21 columns</p>\n",
       "</div>"
      ],
      "text/plain": [
       "   site  continent_id  buyer_country  buyer_region  buyer_city   distance  \\\n",
       "0     2             3             66           348       48862  2234.2641   \n",
       "1     2             3             66           348       48862  2234.2641   \n",
       "2     2             3             66           348       48862  2234.2641   \n",
       "3     2             3             66           442       35390   913.1932   \n",
       "4     2             3             66           442       35390   913.6259   \n",
       "5     2             3             66           442       35390   911.5142   \n",
       "6     2             3             66           189       10067   599.5329   \n",
       "7     2             3             66           189       10067   599.5329   \n",
       "8     2             3             66           189       10067   599.5329   \n",
       "9     2             3             66           189       10067   599.5329   \n",
       "\n",
       "   buyer_id  mobile  package  channel_id  ...  children  room  destination_id  \\\n",
       "0        12       0        1           9  ...         0     1            8250   \n",
       "1        12       0        1           9  ...         0     1            8250   \n",
       "2        12       0        0           9  ...         0     1            8250   \n",
       "3        93       0        0           3  ...         0     1           14984   \n",
       "4        93       0        0           3  ...         0     1           14984   \n",
       "5        93       0        0           3  ...         0     1           14984   \n",
       "6       501       0        0           2  ...         0     1            8267   \n",
       "7       501       0        1           2  ...         0     1            8267   \n",
       "8       501       0        0           2  ...         0     1            8267   \n",
       "9       501       0        0           2  ...         0     1            8267   \n",
       "\n",
       "   destination_type  regency_continent  regency_country  regency_market   cnt  \\\n",
       "0                 1                  3                2              50   628   \n",
       "1                 1                  1                2              50   628   \n",
       "2                 1                  1                2              50   628   \n",
       "3                 1                  1                2              50  1457   \n",
       "4                 1                  1                2              50  1457   \n",
       "5                 1                  1                2              50  1457   \n",
       "6                 1                  2                2              50   675   \n",
       "7                 1                  1                2              50   675   \n",
       "8                 1                  1                2              50   675   \n",
       "9                 1                  1                2              50   675   \n",
       "\n",
       "   regency_cluster  Number of days  \n",
       "0                1               4  \n",
       "1                1               4  \n",
       "2                1               4  \n",
       "3               80               5  \n",
       "4               21               5  \n",
       "5               92               5  \n",
       "6               41               1  \n",
       "7               41               1  \n",
       "8               69               1  \n",
       "9               70               1  \n",
       "\n",
       "[10 rows x 21 columns]"
      ]
     },
     "execution_count": 10,
     "metadata": {},
     "output_type": "execute_result"
    }
   ],
   "source": [
    "train.head(10)"
   ]
  },
  {
   "cell_type": "code",
   "execution_count": 15,
   "metadata": {
    "id": "5nIkrHJ-u31C"
   },
   "outputs": [],
   "source": [
    "main_df = train.copy()"
   ]
  },
  {
   "cell_type": "code",
   "execution_count": 16,
   "metadata": {
    "id": "6gcCNJgDu31D"
   },
   "outputs": [],
   "source": [
    "from sklearn.model_selection import train_test_split\n",
    "\n",
    "## Split into train and test set\n",
    "df_target = train['regency_cluster']\n",
    "df_feature = train.drop(['regency_cluster','buyer_id','site','mobile','package'], axis = 1)\n",
    "## distance, "
   ]
  },
  {
   "cell_type": "code",
   "execution_count": 17,
   "metadata": {
    "colab": {
     "base_uri": "https://localhost:8080/"
    },
    "id": "fTN_I1vBu31D",
    "outputId": "bbdb2c59-1137-45b2-9103-9c018c695dd5"
   },
   "outputs": [
    {
     "name": "stdout",
     "output_type": "stream",
     "text": [
      "(343583,)\n",
      "(343583, 16)\n"
     ]
    }
   ],
   "source": [
    "print(df_target.shape)\n",
    "print(df_feature.shape)"
   ]
  },
  {
   "cell_type": "code",
   "execution_count": 18,
   "metadata": {
    "id": "I3qrqxT8u31E"
   },
   "outputs": [],
   "source": [
    "x_train, x_test, y_train, y_test = train_test_split(df_feature, df_target, test_size=0.2)\n"
   ]
  },
  {
   "cell_type": "code",
   "execution_count": 23,
   "metadata": {
    "colab": {
     "base_uri": "https://localhost:8080/"
    },
    "id": "HvSvZqTzu31E",
    "outputId": "0afdff39-fc0e-45f2-cddb-a317c8918e19"
   },
   "outputs": [
    {
     "name": "stdout",
     "output_type": "stream",
     "text": [
      "(274866, 16)\n",
      "(274866,)\n",
      "(68717, 16)\n",
      "(68717,)\n"
     ]
    }
   ],
   "source": [
    "print(x_train.shape)\n",
    "print(y_train.shape)\n",
    "\n",
    "print(x_test.shape)\n",
    "print(y_test.shape)"
   ]
  },
  {
   "cell_type": "markdown",
   "metadata": {
    "id": "zCpOQEPWu31H"
   },
   "source": [
    "## Random Forest\n"
   ]
  },
  {
   "cell_type": "code",
   "execution_count": 19,
   "metadata": {
    "colab": {
     "base_uri": "https://localhost:8080/"
    },
    "id": "3t1UJsaEu31I",
    "outputId": "04ed3265-b6a0-499b-942b-67326095d9f2"
   },
   "outputs": [
    {
     "data": {
      "text/plain": [
       "RandomForestClassifier(n_estimators=50, random_state=42)"
      ]
     },
     "execution_count": 19,
     "metadata": {},
     "output_type": "execute_result"
    }
   ],
   "source": [
    "from sklearn.ensemble import RandomForestClassifier\n",
    "classifier2 = RandomForestClassifier(n_estimators = 50, random_state = 42)\n",
    "classifier2.fit(df_feature, df_target)"
   ]
  },
  {
   "cell_type": "code",
   "execution_count": 20,
   "metadata": {
    "colab": {
     "base_uri": "https://localhost:8080/"
    },
    "id": "O8Y9CGjlu31I",
    "outputId": "a8be730f-f07d-42bb-fdf8-78a08ae44441"
   },
   "outputs": [
    {
     "name": "stdout",
     "output_type": "stream",
     "text": [
      "             features  feature_importance\n",
      "4            distance            0.216061\n",
      "3          buyer_city            0.115184\n",
      "11  regency_continent            0.103244\n",
      "15     Number of days            0.087287\n",
      "2        buyer_region            0.085496\n",
      "5          channel_id            0.078810\n",
      "9      destination_id            0.074417\n",
      "14                cnt            0.063460\n",
      "6              adults            0.040117\n",
      "7            children            0.028989\n",
      "1       buyer_country            0.028285\n",
      "13     regency_market            0.023622\n",
      "10   destination_type            0.017671\n",
      "8                room            0.014826\n",
      "0        continent_id            0.012838\n",
      "12    regency_country            0.009693\n"
     ]
    }
   ],
   "source": [
    "feature_importances_3 = pd.DataFrame({'features':df_feature.columns,'feature_importance':classifier2.feature_importances_})\n",
    "print(feature_importances_3.sort_values('feature_importance',ascending=False))"
   ]
  },
  {
   "cell_type": "markdown",
   "metadata": {
    "id": "cS9dxmDku31J"
   },
   "source": [
    "## Evaluation"
   ]
  },
  {
   "cell_type": "code",
   "execution_count": 25,
   "metadata": {
    "colab": {
     "base_uri": "https://localhost:8080/"
    },
    "id": "Zj_O67GzAKth",
    "outputId": "badf4932-98c9-423b-aac0-8ce6bca67020"
   },
   "outputs": [
    {
     "name": "stdout",
     "output_type": "stream",
     "text": [
      "0.7972939541449288\n",
      "0.7969643610751342\n"
     ]
    }
   ],
   "source": [
    "print(classifier2.score(x_train,y_train))\n",
    "print(classifier2.score(x_test,y_test))"
   ]
  },
  {
   "cell_type": "code",
   "execution_count": 30,
   "metadata": {
    "id": "jXh5sZCWu31N"
   },
   "outputs": [],
   "source": [
    "y_pred = classifier2.predict(test)"
   ]
  },
  {
   "cell_type": "code",
   "execution_count": 31,
   "metadata": {
    "id": "Z3OJnTEQu31N"
   },
   "outputs": [
    {
     "data": {
      "text/plain": [
       "array([11,  3,  3, ..., 89, 25, 25], dtype=int64)"
      ]
     },
     "execution_count": 31,
     "metadata": {},
     "output_type": "execute_result"
    }
   ],
   "source": [
    "y_pred"
   ]
  },
  {
   "cell_type": "code",
   "execution_count": 32,
   "metadata": {
    "id": "foHV_zFMu31N"
   },
   "outputs": [],
   "source": [
    "def formatNumber(num):\n",
    "    return int(num)\n",
    "    "
   ]
  },
  {
   "cell_type": "code",
   "execution_count": 34,
   "metadata": {
    "id": "OFYOvGsfu31N"
   },
   "outputs": [],
   "source": [
    "#assuming id for test dataset is equal to the id of submission dataset\n",
    "pred = pd.DataFrame(y_pred)\n",
    "sub_df = pd.read_csv('Sample Submission DAC.csv')\n",
    "datasets=pd.concat([sub_df['id'],pred],axis=1)\n",
    "datasets.columns=['id','regency_cluster']\n",
    "datasets.to_csv('sample_submission_test.csv',index=False)\n",
    "final_sub_df = pd.read_csv('sample_submission_test.csv')\n",
    "final_sub_df = final_sub_df.head(10001)\n",
    "final_sub_df['id'] = final_sub_df['id'].astype(np.int64)\n",
    "final_sub_df.to_csv('SA-21-0191_Exponentials_Asia Pacific University.csv',index=False)"
   ]
  },
  {
   "cell_type": "markdown",
   "metadata": {
    "id": "YT6duE3eu31O"
   },
   "source": [
    "## Hyperparameter tuning"
   ]
  },
  {
   "cell_type": "code",
   "execution_count": null,
   "metadata": {
    "id": "kGt4_dODu31O"
   },
   "outputs": [],
   "source": [
    "from sklearn.model_selection import RandomizedSearchCV\n",
    "import pprint as pp\n",
    "from sklearn.ensemble import RandomForestClassifier\n",
    "from scipy.stats import uniform, truncnorm, randint\n",
    "\n",
    "from sklearn.model_selection import RandomizedSearchCV\n",
    "# Number of trees in random forest\n",
    "n_estimators = [int(x) for x in np.linspace(start = 10, stop = 100, num = 10)]\n",
    "# Maximum number of levels in tree\n",
    "# max_depth = [int(x) for x in np.linspace(5, 30, num = 10)]\n",
    "\n",
    "\n",
    "\n",
    "# Create the random grid\n",
    "random_grid = {'n_estimators': n_estimators,\n",
    "#                'max_depth': max_depth,       \n",
    "#                'max_features': truncnorm(a=0, b=1, loc=0.25, scale=0.1),\n",
    "#                'min_samples_split': uniform(0.01, 0.199)\n",
    "               }\n",
    "pp.pprint(random_grid)"
   ]
  },
  {
   "cell_type": "markdown",
   "metadata": {
    "id": "xrelEsW3u31O"
   },
   "source": [
    "# Random Search Training"
   ]
  },
  {
   "cell_type": "code",
   "execution_count": null,
   "metadata": {
    "id": "1d_ZibTfu31O"
   },
   "outputs": [],
   "source": [
    "# Use the random grid to search for best hyperparameters\n",
    "# First create the base model to tune\n",
    "from sklearn.ensemble import RandomForestClassifier\n",
    "rf = RandomForestClassifier()\n",
    "# Random search of parameters, using 3 fold cross validation, \n",
    "# search across 100 different combinations, and use all available cores\n",
    "rf_random = RandomizedSearchCV(estimator = rf, param_distributions = random_grid, n_iter = 100, cv = 3, verbose=1, random_state=42, n_jobs = -1)\n",
    "# Fit the random search model\n",
    "rf_random.fit(df_feature, df_target)\n"
   ]
  },
  {
   "cell_type": "code",
   "execution_count": null,
   "metadata": {},
   "outputs": [],
   "source": [
    "rf_random.best_params_"
   ]
  },
  {
   "cell_type": "code",
   "execution_count": null,
   "metadata": {},
   "outputs": [],
   "source": []
  }
 ],
 "metadata": {
  "colab": {
   "name": "Copy of RandomForest.ipynb",
   "provenance": []
  },
  "kernelspec": {
   "display_name": "Python 3",
   "language": "python",
   "name": "python3"
  },
  "language_info": {
   "codemirror_mode": {
    "name": "ipython",
    "version": 3
   },
   "file_extension": ".py",
   "mimetype": "text/x-python",
   "name": "python",
   "nbconvert_exporter": "python",
   "pygments_lexer": "ipython3",
   "version": "3.6.12"
  }
 },
 "nbformat": 4,
 "nbformat_minor": 4
}
